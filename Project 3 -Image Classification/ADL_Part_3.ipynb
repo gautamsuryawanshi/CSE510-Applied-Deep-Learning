{
 "cells": [
  {
   "cell_type": "code",
   "execution_count": 33,
   "metadata": {},
   "outputs": [],
   "source": [
    "import glob\n",
    "import cv2 as cv\n",
    "import os\n",
    "from keras.preprocessing.image import ImageDataGenerator, array_to_img, img_to_array, load_img\n",
    "from keras.models import Sequential\n",
    "from keras.layers import Conv2D, MaxPooling2D,MaxPool2D,InputLayer\n",
    "from keras.layers import Activation, Dropout, Flatten, Dense\n",
    "import numpy as np\n",
    "from keras.utils.np_utils import to_categorical\n",
    "from keras.optimizers import Adam\n",
    "from sklearn.model_selection import train_test_split\n",
    "from keras.layers import Dropout, BatchNormalization\n",
    "from keras.layers import Convolution2D, MaxPooling2D, Dropout, Flatten, Dense\n",
    "from keras.optimizers import Adam\n",
    "import keras\n",
    "import matplotlib.pyplot as plt\n",
    "from keras.models import Model\n",
    "from sklearn.metrics import confusion_matrix, classification_report\n",
    "import itertools"
   ]
  },
  {
   "cell_type": "code",
   "execution_count": 18,
   "metadata": {},
   "outputs": [],
   "source": [
    "path='/Users/gerald/Documents/gautham/imagenet'\n",
    "imageFolderName=[]"
   ]
  },
  {
   "cell_type": "code",
   "execution_count": 19,
   "metadata": {},
   "outputs": [
    {
     "name": "stdout",
     "output_type": "stream",
     "text": [
      "22\n"
     ]
    }
   ],
   "source": [
    "i=0\n",
    "for filename in os.listdir(path):\n",
    "    imageFolderName.append([filename,i])\n",
    "    i+=1\n",
    "    \n",
    "print(len(imageFolderName))"
   ]
  },
  {
   "cell_type": "code",
   "execution_count": 39,
   "metadata": {},
   "outputs": [
    {
     "name": "stdout",
     "output_type": "stream",
     "text": [
      "apple 0\n",
      "swimming trunks 1\n",
      "tortoiseshell 2\n",
      "ballet dancer 3\n",
      "bulb 4\n",
      "parallel 5\n",
      "foe 6\n",
      "white-throated sparrow 7\n",
      "desert tortoise 8\n",
      "jewelweed 9\n",
      "duffel 10\n",
      "pumpkin seed 11\n",
      "jalousie 12\n",
      "commelina 13\n",
      "kittiwake 14\n",
      "street 15\n",
      "monkey 16\n",
      "dining area 17\n",
      "boxer 18\n",
      "bottom 19\n",
      "Indian elephant 20\n",
      "dugout canoe 21\n"
     ]
    }
   ],
   "source": [
    "images=[]\n",
    "labels=[]\n",
    "class_names=[]\n",
    "for j in range(len(imageFolderName)):\n",
    "    img_path = glob.glob(path+\"/\"+imageFolderName[j][0]+\"/*.jpg\")\n",
    "    class_names.append(imageFolderName[j][0])\n",
    "    for img in img_path:\n",
    "        n=cv.imread(img)\n",
    "         \n",
    "        if(type(n) != 'NoneType'):\n",
    "            n1 = cv.resize(n,(64,64))\n",
    "            x = img_to_array(n1)\n",
    "            images.append(x)\n",
    "            labels.append(j)\n",
    "    print(imageFolderName[j][0],imageFolderName[j][1])\n",
    "    "
   ]
  },
  {
   "cell_type": "code",
   "execution_count": 83,
   "metadata": {
    "collapsed": true
   },
   "outputs": [
    {
     "ename": "AttributeError",
     "evalue": "'list' object has no attribute 'shape'",
     "output_type": "error",
     "traceback": [
      "\u001b[1;31m---------------------------------------------------------------------------\u001b[0m",
      "\u001b[1;31mAttributeError\u001b[0m                            Traceback (most recent call last)",
      "\u001b[1;32m<ipython-input-83-004278b726d0>\u001b[0m in \u001b[0;36m<module>\u001b[1;34m\u001b[0m\n\u001b[1;32m----> 1\u001b[1;33m \u001b[0mprint\u001b[0m\u001b[1;33m(\u001b[0m\u001b[0mimages\u001b[0m\u001b[1;33m.\u001b[0m\u001b[0mshape\u001b[0m\u001b[1;33m)\u001b[0m\u001b[1;33m\u001b[0m\u001b[0m\n\u001b[0m\u001b[0;32m      2\u001b[0m \u001b[0mprint\u001b[0m\u001b[1;33m(\u001b[0m\u001b[0mlabels\u001b[0m\u001b[1;33m.\u001b[0m\u001b[0mshape\u001b[0m\u001b[1;33m)\u001b[0m\u001b[1;33m\u001b[0m\u001b[0m\n",
      "\u001b[1;31mAttributeError\u001b[0m: 'list' object has no attribute 'shape'"
     ]
    }
   ],
   "source": []
  },
  {
   "cell_type": "code",
   "execution_count": 21,
   "metadata": {},
   "outputs": [],
   "source": [
    "train_images, test_images, train_labels, test_labels = train_test_split(images, labels, test_size=0.3, random_state=42)"
   ]
  },
  {
   "cell_type": "code",
   "execution_count": 22,
   "metadata": {},
   "outputs": [],
   "source": [
    "train_images=np.array(train_images)\n",
    "test_images=np.array(test_images)\n",
    "train_labels=np.array(train_labels)\n",
    "test_labels=np.array(test_labels)"
   ]
  },
  {
   "cell_type": "code",
   "execution_count": 23,
   "metadata": {},
   "outputs": [
    {
     "name": "stdout",
     "output_type": "stream",
     "text": [
      "(8447, 64, 64, 3)\n",
      "(8447,)\n",
      "(3621, 64, 64, 3)\n",
      "(3621,)\n"
     ]
    }
   ],
   "source": [
    "print(train_images.shape)\n",
    "print(train_labels.shape)\n",
    "print(test_images.shape)\n",
    "print(test_labels.shape)"
   ]
  },
  {
   "cell_type": "code",
   "execution_count": 24,
   "metadata": {},
   "outputs": [],
   "source": [
    "train_labels = to_categorical(train_labels)\n",
    "test_labels = to_categorical(test_labels)"
   ]
  },
  {
   "cell_type": "code",
   "execution_count": 25,
   "metadata": {},
   "outputs": [],
   "source": [
    "train_images=train_images/255.0\n",
    "test_images=test_images/255.0"
   ]
  },
  {
   "cell_type": "code",
   "execution_count": 26,
   "metadata": {},
   "outputs": [],
   "source": [
    "from sklearn.utils import shuffle\n",
    "train_images, train_labels = shuffle(train_images, train_labels)"
   ]
  },
  {
   "cell_type": "code",
   "execution_count": 27,
   "metadata": {},
   "outputs": [
    {
     "name": "stdout",
     "output_type": "stream",
     "text": [
      "(64, 64, 3)\n"
     ]
    }
   ],
   "source": [
    "print(train_images[0].shape)"
   ]
  },
  {
   "cell_type": "code",
   "execution_count": 28,
   "metadata": {},
   "outputs": [
    {
     "name": "stdout",
     "output_type": "stream",
     "text": [
      "Model: \"sequential_3\"\n",
      "_________________________________________________________________\n",
      "Layer (type)                 Output Shape              Param #   \n",
      "=================================================================\n",
      "conv2d_17 (Conv2D)           (None, 64, 64, 64)        4864      \n",
      "_________________________________________________________________\n",
      "max_pooling2d_8 (MaxPooling2 (None, 32, 32, 64)        0         \n",
      "_________________________________________________________________\n",
      "batch_normalization_2 (Batch (None, 32, 32, 64)        256       \n",
      "_________________________________________________________________\n",
      "conv2d_18 (Conv2D)           (None, 30, 30, 32)        18464     \n",
      "_________________________________________________________________\n",
      "max_pooling2d_9 (MaxPooling2 (None, 15, 15, 32)        0         \n",
      "_________________________________________________________________\n",
      "dropout_4 (Dropout)          (None, 15, 15, 32)        0         \n",
      "_________________________________________________________________\n",
      "conv2d_19 (Conv2D)           (None, 13, 13, 32)        9248      \n",
      "_________________________________________________________________\n",
      "dropout_5 (Dropout)          (None, 13, 13, 32)        0         \n",
      "_________________________________________________________________\n",
      "conv2d_20 (Conv2D)           (None, 11, 11, 32)        9248      \n",
      "_________________________________________________________________\n",
      "dropout_6 (Dropout)          (None, 11, 11, 32)        0         \n",
      "_________________________________________________________________\n",
      "flatten_3 (Flatten)          (None, 3872)              0         \n",
      "_________________________________________________________________\n",
      "dense_5 (Dense)              (None, 19)                73587     \n",
      "=================================================================\n",
      "Total params: 115,667\n",
      "Trainable params: 115,539\n",
      "Non-trainable params: 128\n",
      "_________________________________________________________________\n"
     ]
    }
   ],
   "source": [
    "model = Sequential()\n",
    "\n",
    "model.add(Conv2D(64, (5, 5),strides=(1,1),padding='same', activation='relu', kernel_initializer='he_uniform', input_shape=(64, 64, 3)))\n",
    "model.add(MaxPooling2D((2, 2)))\n",
    "model.add(BatchNormalization())\n",
    "\n",
    "model.add(Conv2D(32, (3, 3),strides=(1,1), activation='relu'))\n",
    "model.add(MaxPooling2D(pool_size=(2, 2)))\n",
    "model.add(Dropout(0.2))\n",
    "\n",
    "model.add(Conv2D(32, (3, 3),strides=(1,1), activation='relu'))\n",
    "model.add(Dropout(0.2))\n",
    "\n",
    "\n",
    "#model.add(Conv2D(32, (3, 3),strides=(1,1),padding='same', activation='relu', kernel_initializer='he_uniform'))\n",
    "#model.add(Conv2D(32, (3, 3),strides=(1,1), activation='relu', kernel_initializer='he_uniform'))\n",
    "#model.add(Conv2D(32, (3, 3),strides=(1,1), activation='relu', kernel_initializer='he_uniform'))\n",
    "model.add(Conv2D(32, (3, 3),strides=(1,1), activation='relu', kernel_initializer='he_uniform'))\n",
    "model.add(Dropout(0.5))\n",
    "\n",
    "# model.add(Dense(100, activation='relu', kernel_initializer='he_uniform'))\n",
    "# model.add(Dense(100, activation='relu', kernel_initializer='he_uniform'))\n",
    "model.add(Flatten())\n",
    "model.add(Dense(19, activation='softmax'))\n",
    "\n",
    "model.compile(Adam(), loss='categorical_crossentropy', metrics=['accuracy'])\n",
    "model.summary()\n"
   ]
  },
  {
   "cell_type": "code",
   "execution_count": 13,
   "metadata": {},
   "outputs": [
    {
     "name": "stdout",
     "output_type": "stream",
     "text": [
      "WARNING:tensorflow:From /opt/anaconda3/lib/python3.6/site-packages/keras/backend/tensorflow_backend.py:422: The name tf.global_variables is deprecated. Please use tf.compat.v1.global_variables instead.\n",
      "\n",
      "Train on 5809 samples, validate on 646 samples\n",
      "Epoch 1/50\n",
      "5809/5809 [==============================] - 20s 3ms/step - loss: 3.1085 - accuracy: 0.0883 - val_loss: 2.9197 - val_accuracy: 0.0557\n",
      "Epoch 2/50\n",
      "5809/5809 [==============================] - 18s 3ms/step - loss: 2.6408 - accuracy: 0.1892 - val_loss: 2.8813 - val_accuracy: 0.1084\n",
      "Epoch 3/50\n",
      "5809/5809 [==============================] - 18s 3ms/step - loss: 2.3720 - accuracy: 0.2832 - val_loss: 2.8079 - val_accuracy: 0.1192\n",
      "Epoch 4/50\n",
      "5809/5809 [==============================] - 18s 3ms/step - loss: 2.1775 - accuracy: 0.3453 - val_loss: 2.6952 - val_accuracy: 0.1842\n",
      "Epoch 5/50\n",
      "5809/5809 [==============================] - 18s 3ms/step - loss: 2.0446 - accuracy: 0.3873 - val_loss: 2.6118 - val_accuracy: 0.2260\n",
      "Epoch 6/50\n",
      "5809/5809 [==============================] - 18s 3ms/step - loss: 1.9295 - accuracy: 0.4125 - val_loss: 2.5429 - val_accuracy: 0.2260\n",
      "Epoch 7/50\n",
      "5809/5809 [==============================] - 18s 3ms/step - loss: 1.8405 - accuracy: 0.4364 - val_loss: 2.5684 - val_accuracy: 0.2229\n",
      "Epoch 8/50\n",
      "5809/5809 [==============================] - 18s 3ms/step - loss: 1.7744 - accuracy: 0.4564 - val_loss: 2.4967 - val_accuracy: 0.2508\n",
      "Epoch 9/50\n",
      "5809/5809 [==============================] - 18s 3ms/step - loss: 1.7051 - accuracy: 0.4758 - val_loss: 2.3546 - val_accuracy: 0.3328\n",
      "Epoch 10/50\n",
      "5809/5809 [==============================] - 18s 3ms/step - loss: 1.6318 - accuracy: 0.4917 - val_loss: 2.3865 - val_accuracy: 0.3111\n",
      "Epoch 11/50\n",
      "5809/5809 [==============================] - 18s 3ms/step - loss: 1.6030 - accuracy: 0.4997 - val_loss: 2.3811 - val_accuracy: 0.3158\n",
      "Epoch 12/50\n",
      "5809/5809 [==============================] - 18s 3ms/step - loss: 1.5312 - accuracy: 0.5192 - val_loss: 2.3533 - val_accuracy: 0.3096\n",
      "Epoch 13/50\n",
      "5809/5809 [==============================] - 18s 3ms/step - loss: 1.4930 - accuracy: 0.5411 - val_loss: 2.1467 - val_accuracy: 0.4272\n",
      "Epoch 14/50\n",
      "5809/5809 [==============================] - 18s 3ms/step - loss: 1.4383 - accuracy: 0.5417 - val_loss: 2.2460 - val_accuracy: 0.3421\n",
      "Epoch 15/50\n",
      "5809/5809 [==============================] - 18s 3ms/step - loss: 1.3885 - accuracy: 0.5681 - val_loss: 2.0755 - val_accuracy: 0.4319\n",
      "Epoch 16/50\n",
      "5809/5809 [==============================] - 18s 3ms/step - loss: 1.3625 - accuracy: 0.5729 - val_loss: 2.0513 - val_accuracy: 0.4087\n",
      "Epoch 17/50\n",
      "5809/5809 [==============================] - 18s 3ms/step - loss: 1.3284 - accuracy: 0.5817 - val_loss: 1.9327 - val_accuracy: 0.4520\n",
      "Epoch 18/50\n",
      "5809/5809 [==============================] - 18s 3ms/step - loss: 1.2850 - accuracy: 0.6042 - val_loss: 1.8888 - val_accuracy: 0.4598\n",
      "Epoch 19/50\n",
      "5809/5809 [==============================] - 18s 3ms/step - loss: 1.2359 - accuracy: 0.6161 - val_loss: 1.7602 - val_accuracy: 0.5108\n",
      "Epoch 20/50\n",
      "5809/5809 [==============================] - 18s 3ms/step - loss: 1.2107 - accuracy: 0.6211 - val_loss: 1.9092 - val_accuracy: 0.4536\n",
      "Epoch 21/50\n",
      "5809/5809 [==============================] - 18s 3ms/step - loss: 1.1656 - accuracy: 0.6301 - val_loss: 1.6994 - val_accuracy: 0.5279\n",
      "Epoch 22/50\n",
      "5809/5809 [==============================] - 18s 3ms/step - loss: 1.1045 - accuracy: 0.6557 - val_loss: 1.6732 - val_accuracy: 0.5511\n",
      "Epoch 23/50\n",
      "5809/5809 [==============================] - 18s 3ms/step - loss: 1.0902 - accuracy: 0.6574 - val_loss: 1.6614 - val_accuracy: 0.5372\n",
      "Epoch 24/50\n",
      "5809/5809 [==============================] - 18s 3ms/step - loss: 1.0628 - accuracy: 0.6664 - val_loss: 1.5732 - val_accuracy: 0.5418\n",
      "Epoch 25/50\n",
      "5809/5809 [==============================] - 18s 3ms/step - loss: 1.0446 - accuracy: 0.6683 - val_loss: 1.6154 - val_accuracy: 0.5248\n",
      "Epoch 26/50\n",
      "5809/5809 [==============================] - 18s 3ms/step - loss: 1.0038 - accuracy: 0.6884 - val_loss: 1.4774 - val_accuracy: 0.5666\n",
      "Epoch 27/50\n",
      "5809/5809 [==============================] - 18s 3ms/step - loss: 0.9790 - accuracy: 0.6807 - val_loss: 1.6359 - val_accuracy: 0.5201\n",
      "Epoch 28/50\n",
      "5809/5809 [==============================] - 18s 3ms/step - loss: 0.9711 - accuracy: 0.6848 - val_loss: 1.4168 - val_accuracy: 0.5759\n",
      "Epoch 29/50\n",
      "5809/5809 [==============================] - 18s 3ms/step - loss: 0.9263 - accuracy: 0.7039 - val_loss: 1.4880 - val_accuracy: 0.5712\n",
      "Epoch 30/50\n",
      "5809/5809 [==============================] - 18s 3ms/step - loss: 0.9068 - accuracy: 0.7106 - val_loss: 1.4569 - val_accuracy: 0.5666\n",
      "Epoch 31/50\n",
      "5809/5809 [==============================] - 18s 3ms/step - loss: 0.8777 - accuracy: 0.7134 - val_loss: 1.7766 - val_accuracy: 0.4861\n",
      "Epoch 32/50\n",
      "5809/5809 [==============================] - 18s 3ms/step - loss: 0.8734 - accuracy: 0.7182 - val_loss: 1.3913 - val_accuracy: 0.5851\n",
      "Epoch 33/50\n",
      "5809/5809 [==============================] - 18s 3ms/step - loss: 0.8481 - accuracy: 0.7304 - val_loss: 1.4224 - val_accuracy: 0.5712\n",
      "Epoch 34/50\n",
      "5809/5809 [==============================] - 18s 3ms/step - loss: 0.8269 - accuracy: 0.7308 - val_loss: 1.4733 - val_accuracy: 0.5666\n",
      "Epoch 35/50\n",
      "5809/5809 [==============================] - 18s 3ms/step - loss: 0.8163 - accuracy: 0.7394 - val_loss: 1.3952 - val_accuracy: 0.5913\n",
      "Epoch 36/50\n",
      "5809/5809 [==============================] - 18s 3ms/step - loss: 0.7787 - accuracy: 0.7430 - val_loss: 1.3888 - val_accuracy: 0.5836\n",
      "Epoch 37/50\n",
      "5809/5809 [==============================] - 19s 3ms/step - loss: 0.7569 - accuracy: 0.7556 - val_loss: 1.5452 - val_accuracy: 0.5480\n",
      "Epoch 38/50\n",
      "5809/5809 [==============================] - 19s 3ms/step - loss: 0.7490 - accuracy: 0.7571 - val_loss: 1.4941 - val_accuracy: 0.5635\n",
      "Epoch 39/50\n",
      "5809/5809 [==============================] - 18s 3ms/step - loss: 0.7429 - accuracy: 0.7617 - val_loss: 1.7489 - val_accuracy: 0.5263\n",
      "Epoch 40/50\n",
      "5809/5809 [==============================] - 18s 3ms/step - loss: 0.7179 - accuracy: 0.7635 - val_loss: 1.4320 - val_accuracy: 0.5728\n",
      "Epoch 41/50\n",
      "5809/5809 [==============================] - 18s 3ms/step - loss: 0.6916 - accuracy: 0.7735 - val_loss: 1.5187 - val_accuracy: 0.5480\n",
      "Epoch 42/50\n",
      "5809/5809 [==============================] - 18s 3ms/step - loss: 0.6832 - accuracy: 0.7766 - val_loss: 1.4258 - val_accuracy: 0.5836\n",
      "Epoch 43/50\n",
      "5809/5809 [==============================] - 18s 3ms/step - loss: 0.6660 - accuracy: 0.7783 - val_loss: 1.4250 - val_accuracy: 0.5882\n",
      "Epoch 44/50\n",
      "5809/5809 [==============================] - 18s 3ms/step - loss: 0.6665 - accuracy: 0.7760 - val_loss: 1.4192 - val_accuracy: 0.5867\n",
      "Epoch 45/50\n",
      "5809/5809 [==============================] - 18s 3ms/step - loss: 0.6256 - accuracy: 0.7950 - val_loss: 1.4090 - val_accuracy: 0.5975\n",
      "Epoch 46/50\n",
      "5809/5809 [==============================] - 18s 3ms/step - loss: 0.6358 - accuracy: 0.7879 - val_loss: 1.4255 - val_accuracy: 0.6099\n",
      "Epoch 47/50\n",
      "5809/5809 [==============================] - 18s 3ms/step - loss: 0.6225 - accuracy: 0.7908 - val_loss: 1.5497 - val_accuracy: 0.5759\n",
      "Epoch 48/50\n",
      "5809/5809 [==============================] - 18s 3ms/step - loss: 0.6200 - accuracy: 0.7907 - val_loss: 1.4772 - val_accuracy: 0.6037\n",
      "Epoch 49/50\n",
      "5809/5809 [==============================] - 18s 3ms/step - loss: 0.6045 - accuracy: 0.7943 - val_loss: 1.4544 - val_accuracy: 0.5882\n",
      "Epoch 50/50\n",
      "5809/5809 [==============================] - 18s 3ms/step - loss: 0.5750 - accuracy: 0.8082 - val_loss: 1.5095 - val_accuracy: 0.5851\n"
     ]
    }
   ],
   "source": [
    "history=model.fit(train_images, train_labels, epochs=50,  validation_split = 0.1, batch_size = 500, verbose = 1, shuffle = 1)"
   ]
  },
  {
   "cell_type": "code",
   "execution_count": 14,
   "metadata": {},
   "outputs": [
    {
     "name": "stdout",
     "output_type": "stream",
     "text": [
      "Test score: 1.5536366411611668\n",
      "Test accuracy: 0.5822190046310425\n"
     ]
    }
   ],
   "source": [
    "score = model.evaluate(test_images, test_labels, verbose=0)\n",
    "\n",
    "print('Test score:', score[0])\n",
    "print('Test accuracy:', score[1])"
   ]
  },
  {
   "cell_type": "code",
   "execution_count": 31,
   "metadata": {},
   "outputs": [
    {
     "data": {
      "text/plain": [
       "Text(0.5, 0, 'epoch')"
      ]
     },
     "execution_count": 31,
     "metadata": {},
     "output_type": "execute_result"
    },
    {
     "data": {
      "image/png": "[encoded data removed]",
      "text/plain": [
       "<Figure size 432x288 with 1 Axes>"
      ]
     },
     "metadata": {
      "needs_background": "light"
     },
     "output_type": "display_data"
    }
   ],
   "source": [
    "plt.plot(history.history['loss'])\n",
    "plt.plot(history.history['val_loss'])\n",
    "plt.legend(['training', 'validation'])\n",
    "plt.title('Loss')\n",
    "plt.xlabel('epoch')"
   ]
  },
  {
   "cell_type": "code",
   "execution_count": 32,
   "metadata": {},
   "outputs": [
    {
     "data": {
      "text/plain": [
       "Text(0.5, 0, 'epoch')"
      ]
     },
     "execution_count": 32,
     "metadata": {},
     "output_type": "execute_result"
    },
    {
     "data": {
      "image/png": "[encoded data removed]",
      "text/plain": [
       "<Figure size 432x288 with 1 Axes>"
      ]
     },
     "metadata": {
      "needs_background": "light"
     },
     "output_type": "display_data"
    }
   ],
   "source": [
    "plt.plot(history.history['accuracy'])\n",
    "plt.plot(history.history['val_accuracy'])\n",
    "plt.legend(['training','validation'])\n",
    "plt.title('Accuracy')\n",
    "plt.xlabel('epoch')"
   ]
  },
  {
   "cell_type": "code",
   "execution_count": 36,
   "metadata": {},
   "outputs": [],
   "source": [
    "def plot_confusion_matrix(cm, classes,\n",
    "                          normalize=False,\n",
    "                          title='Confusion matrix',\n",
    "                          cmap=plt.cm.Blues):\n",
    "    \n",
    "    plt.imshow(cm, interpolation='nearest', cmap=cmap)\n",
    "    plt.title(title)\n",
    "    plt.colorbar()\n",
    "    tick_marks = np.arange(len(classes))\n",
    "    plt.xticks(tick_marks, classes, rotation=90)\n",
    "    plt.yticks(tick_marks, classes)\n",
    "\n",
    "    if normalize:\n",
    "        cm = cm.astype('float') / cm.sum(axis=1)[:, np.newaxis]\n",
    "\n",
    "    thresh = cm.max() / 2.\n",
    "    for i, j in itertools.product(range(cm.shape[0]), range(cm.shape[1])):\n",
    "        plt.text(j, i, cm[i, j],\n",
    "                 horizontalalignment=\"center\",\n",
    "                 color=\"white\" if cm[i, j] > thresh else \"black\")\n",
    "\n",
    "    plt.tight_layout()\n",
    "    plt.ylabel('True label')\n",
    "    plt.xlabel('Predicted label')"
   ]
  },
  {
   "cell_type": "code",
   "execution_count": 41,
   "metadata": {},
   "outputs": [],
   "source": [
    "model.save('Part3_Model.h5')"
   ]
  },
  {
   "cell_type": "code",
   "execution_count": 40,
   "metadata": {},
   "outputs": [
    {
     "data": {
      "image/png": "[encoded data removed]",
      "text/plain": [
       "<Figure size 432x288 with 2 Axes>"
      ]
     },
     "metadata": {
      "needs_background": "light"
     },
     "output_type": "display_data"
    }
   ],
   "source": [
    "Y_pred = model.predict(test_images)\n",
    "Y_pred_classes = np.argmax(Y_pred,axis = 1) \n",
    "Y_true = np.argmax(test_labels,axis = 1) \n",
    "confusion_mtx = confusion_matrix(Y_true, Y_pred_classes) \n",
    "plot_confusion_matrix(confusion_mtx,class_names)"
   ]
  },
  {
   "cell_type": "markdown",
   "metadata": {},
   "source": []
  },
  {
   "cell_type": "markdown",
   "metadata": {},
   "source": [
    "Observations:\n",
    "1) We have used imagenet dataset to classify images into different category.\n",
    "\n",
    "2) After training the model we are getting a accuracy of 58%. \n",
    "\n",
    "3) I have used 4 conv2d layers, a significant increase in accuracy was seen after usung Max Pooling and  Dropout of 0.5% probablity.\n",
    "\n",
    "4) Our model does not seem to overfit or underfit but the performance can be definetly improved by changing the layers and increasing the epoch size.\n",
    "\n",
    "5) I also tried implementing a smaller identical version of VGG16, but it ended up crashing my PC. The model is shown belows"
   ]
  },
  {
   "cell_type": "markdown",
   "metadata": {},
   "source": [
    "# Smaller Identical Version of VGG16"
   ]
  },
  {
   "cell_type": "code",
   "execution_count": 15,
   "metadata": {},
   "outputs": [
    {
     "name": "stdout",
     "output_type": "stream",
     "text": [
      "Model: \"sequential_2\"\n",
      "_________________________________________________________________\n",
      "Layer (type)                 Output Shape              Param #   \n",
      "=================================================================\n",
      "conv2d_5 (Conv2D)            (None, 64, 64, 64)        1792      \n",
      "_________________________________________________________________\n",
      "conv2d_6 (Conv2D)            (None, 64, 64, 32)        18464     \n",
      "_________________________________________________________________\n",
      "max_pooling2d_3 (MaxPooling2 (None, 32, 32, 32)        0         \n",
      "_________________________________________________________________\n",
      "conv2d_7 (Conv2D)            (None, 32, 32, 64)        18496     \n",
      "_________________________________________________________________\n",
      "conv2d_8 (Conv2D)            (None, 32, 32, 64)        36928     \n",
      "_________________________________________________________________\n",
      "max_pooling2d_4 (MaxPooling2 (None, 16, 16, 64)        0         \n",
      "_________________________________________________________________\n",
      "conv2d_9 (Conv2D)            (None, 16, 16, 128)       73856     \n",
      "_________________________________________________________________\n",
      "conv2d_10 (Conv2D)           (None, 16, 16, 128)       147584    \n",
      "_________________________________________________________________\n",
      "max_pooling2d_5 (MaxPooling2 (None, 8, 8, 128)         0         \n",
      "_________________________________________________________________\n",
      "conv2d_11 (Conv2D)           (None, 8, 8, 256)         295168    \n",
      "_________________________________________________________________\n",
      "conv2d_12 (Conv2D)           (None, 8, 8, 256)         590080    \n",
      "_________________________________________________________________\n",
      "conv2d_13 (Conv2D)           (None, 8, 8, 256)         590080    \n",
      "_________________________________________________________________\n",
      "max_pooling2d_6 (MaxPooling2 (None, 4, 4, 256)         0         \n",
      "_________________________________________________________________\n",
      "conv2d_14 (Conv2D)           (None, 4, 4, 256)         590080    \n",
      "_________________________________________________________________\n",
      "conv2d_15 (Conv2D)           (None, 4, 4, 256)         590080    \n",
      "_________________________________________________________________\n",
      "conv2d_16 (Conv2D)           (None, 4, 4, 256)         590080    \n",
      "_________________________________________________________________\n",
      "max_pooling2d_7 (MaxPooling2 (None, 2, 2, 256)         0         \n",
      "_________________________________________________________________\n",
      "flatten_2 (Flatten)          (None, 1024)              0         \n",
      "_________________________________________________________________\n",
      "dense_2 (Dense)              (None, 4096)              4198400   \n",
      "_________________________________________________________________\n",
      "dense_3 (Dense)              (None, 4096)              16781312  \n",
      "_________________________________________________________________\n",
      "dense_4 (Dense)              (None, 19)                77843     \n",
      "=================================================================\n",
      "Total params: 24,600,243\n",
      "Trainable params: 24,600,243\n",
      "Non-trainable params: 0\n",
      "_________________________________________________________________\n"
     ]
    }
   ],
   "source": [
    "model = Sequential()\n",
    "\n",
    "model.add(Conv2D(input_shape=(64,64,3),filters=64,kernel_size=(3,3),padding=\"same\", activation=\"relu\"))\n",
    "model.add(Conv2D(filters=32,kernel_size=(3,3),padding=\"same\", activation=\"relu\"))\n",
    "model.add(MaxPool2D(pool_size=(2,2),strides=(2,2)))\n",
    "\n",
    "model.add(Conv2D(filters=64, kernel_size=(3,3), padding=\"same\", activation=\"relu\"))\n",
    "model.add(Conv2D(filters=64, kernel_size=(3,3), padding=\"same\", activation=\"relu\"))\n",
    "model.add(MaxPool2D(pool_size=(2,2),strides=(2,2)))\n",
    "\n",
    "model.add(Conv2D(filters=128, kernel_size=(3,3), padding=\"same\", activation=\"relu\"))\n",
    "model.add(Conv2D(filters=128, kernel_size=(3,3), padding=\"same\", activation=\"relu\"))\n",
    "#model.add(Conv2D(filters=256, kernel_size=(3,3), padding=\"same\", activation=\"relu\"))\n",
    "model.add(MaxPool2D(pool_size=(2,2),strides=(2,2)))\n",
    "\n",
    "model.add(Conv2D(filters=256, kernel_size=(3,3), padding=\"same\", activation=\"relu\"))\n",
    "model.add(Conv2D(filters=256, kernel_size=(3,3), padding=\"same\", activation=\"relu\"))\n",
    "model.add(Conv2D(filters=256, kernel_size=(3,3), padding=\"same\", activation=\"relu\"))\n",
    "model.add(MaxPool2D(pool_size=(2,2),strides=(2,2)))\n",
    "\n",
    "model.add(Conv2D(filters=256, kernel_size=(3,3), padding=\"same\", activation=\"relu\"))\n",
    "model.add(Conv2D(filters=256, kernel_size=(3,3), padding=\"same\", activation=\"relu\"))\n",
    "model.add(Conv2D(filters=256, kernel_size=(3,3), padding=\"same\", activation=\"relu\"))\n",
    "model.add(MaxPool2D(pool_size=(2,2),strides=(2,2)))\n",
    "\n",
    "model.add(Flatten())\n",
    "model.add(Dense(units=4096,activation=\"relu\"))\n",
    "model.add(Dense(units=4096,activation=\"relu\"))\n",
    "model.add(Dense(units=19, activation=\"softmax\"))\n",
    "\n",
    "opt = Adam(lr=0.001)\n",
    "model.compile(optimizer=opt, loss=keras.losses.categorical_crossentropy, metrics=['accuracy'])\n",
    "model.summary()"
   ]
  },
  {
   "cell_type": "code",
   "execution_count": 16,
   "metadata": {
    "collapsed": true
   },
   "outputs": [
    {
     "name": "stdout",
     "output_type": "stream",
     "text": [
      "Train on 5164 samples, validate on 1291 samples\n",
      "Epoch 1/50\n",
      "5164/5164 [==============================] - 68s 13ms/step - loss: 2.9991 - accuracy: 0.0534 - val_loss: 2.9442 - val_accuracy: 0.0473\n",
      "Epoch 2/50\n",
      "5164/5164 [==============================] - 70s 14ms/step - loss: 2.9442 - accuracy: 0.0544 - val_loss: 2.9443 - val_accuracy: 0.0473\n",
      "Epoch 3/50\n",
      "5164/5164 [==============================] - 68s 13ms/step - loss: 2.9438 - accuracy: 0.0583 - val_loss: 2.9446 - val_accuracy: 0.0473\n",
      "Epoch 4/50\n",
      "5164/5164 [==============================] - 67s 13ms/step - loss: 2.9438 - accuracy: 0.0583 - val_loss: 2.9449 - val_accuracy: 0.0473\n",
      "Epoch 5/50\n",
      "5164/5164 [==============================] - 67s 13ms/step - loss: 2.9435 - accuracy: 0.0536 - val_loss: 2.9447 - val_accuracy: 0.0473\n",
      "Epoch 6/50\n",
      "3200/5164 [=================>............] - ETA: 24s - loss: 2.9435 - accuracy: 0.0613"
     ]
    },
    {
     "ename": "KeyboardInterrupt",
     "evalue": "",
     "output_type": "error",
     "traceback": [
      "\u001b[0;31m---------------------------------------------------------------------------\u001b[0m",
      "\u001b[0;31mKeyboardInterrupt\u001b[0m                         Traceback (most recent call last)",
      "\u001b[0;32m<ipython-input-16-fe57aaba2e20>\u001b[0m in \u001b[0;36m<module>\u001b[0;34m\u001b[0m\n\u001b[0;32m----> 1\u001b[0;31m \u001b[0mhist\u001b[0m\u001b[0;34m=\u001b[0m\u001b[0mmodel\u001b[0m\u001b[0;34m.\u001b[0m\u001b[0mfit\u001b[0m\u001b[0;34m(\u001b[0m\u001b[0mtrain_images\u001b[0m\u001b[0;34m,\u001b[0m \u001b[0mtrain_labels\u001b[0m\u001b[0;34m,\u001b[0m \u001b[0mepochs\u001b[0m\u001b[0;34m=\u001b[0m\u001b[0;36m50\u001b[0m\u001b[0;34m,\u001b[0m  \u001b[0mvalidation_split\u001b[0m \u001b[0;34m=\u001b[0m \u001b[0;36m0.2\u001b[0m\u001b[0;34m,\u001b[0m \u001b[0mbatch_size\u001b[0m \u001b[0;34m=\u001b[0m \u001b[0;36m200\u001b[0m\u001b[0;34m,\u001b[0m \u001b[0mverbose\u001b[0m \u001b[0;34m=\u001b[0m \u001b[0;36m1\u001b[0m\u001b[0;34m,\u001b[0m \u001b[0mshuffle\u001b[0m \u001b[0;34m=\u001b[0m \u001b[0;36m1\u001b[0m\u001b[0;34m)\u001b[0m\u001b[0;34m\u001b[0m\u001b[0;34m\u001b[0m\u001b[0m\n\u001b[0m",
      "\u001b[0;32m/opt/anaconda3/lib/python3.6/site-packages/keras/engine/training.py\u001b[0m in \u001b[0;36mfit\u001b[0;34m(self, x, y, batch_size, epochs, verbose, callbacks, validation_split, validation_data, shuffle, class_weight, sample_weight, initial_epoch, steps_per_epoch, validation_steps, validation_freq, max_queue_size, workers, use_multiprocessing, **kwargs)\u001b[0m\n\u001b[1;32m   1237\u001b[0m                                         \u001b[0msteps_per_epoch\u001b[0m\u001b[0;34m=\u001b[0m\u001b[0msteps_per_epoch\u001b[0m\u001b[0;34m,\u001b[0m\u001b[0;34m\u001b[0m\u001b[0;34m\u001b[0m\u001b[0m\n\u001b[1;32m   1238\u001b[0m                                         \u001b[0mvalidation_steps\u001b[0m\u001b[0;34m=\u001b[0m\u001b[0mvalidation_steps\u001b[0m\u001b[0;34m,\u001b[0m\u001b[0;34m\u001b[0m\u001b[0;34m\u001b[0m\u001b[0m\n\u001b[0;32m-> 1239\u001b[0;31m                                         validation_freq=validation_freq)\n\u001b[0m\u001b[1;32m   1240\u001b[0m \u001b[0;34m\u001b[0m\u001b[0m\n\u001b[1;32m   1241\u001b[0m     def evaluate(self,\n",
      "\u001b[0;32m/opt/anaconda3/lib/python3.6/site-packages/keras/engine/training_arrays.py\u001b[0m in \u001b[0;36mfit_loop\u001b[0;34m(model, fit_function, fit_inputs, out_labels, batch_size, epochs, verbose, callbacks, val_function, val_inputs, shuffle, initial_epoch, steps_per_epoch, validation_steps, validation_freq)\u001b[0m\n\u001b[1;32m    194\u001b[0m                     \u001b[0mins_batch\u001b[0m\u001b[0;34m[\u001b[0m\u001b[0mi\u001b[0m\u001b[0;34m]\u001b[0m \u001b[0;34m=\u001b[0m \u001b[0mins_batch\u001b[0m\u001b[0;34m[\u001b[0m\u001b[0mi\u001b[0m\u001b[0;34m]\u001b[0m\u001b[0;34m.\u001b[0m\u001b[0mtoarray\u001b[0m\u001b[0;34m(\u001b[0m\u001b[0;34m)\u001b[0m\u001b[0;34m\u001b[0m\u001b[0;34m\u001b[0m\u001b[0m\n\u001b[1;32m    195\u001b[0m \u001b[0;34m\u001b[0m\u001b[0m\n\u001b[0;32m--> 196\u001b[0;31m                 \u001b[0mouts\u001b[0m \u001b[0;34m=\u001b[0m \u001b[0mfit_function\u001b[0m\u001b[0;34m(\u001b[0m\u001b[0mins_batch\u001b[0m\u001b[0;34m)\u001b[0m\u001b[0;34m\u001b[0m\u001b[0;34m\u001b[0m\u001b[0m\n\u001b[0m\u001b[1;32m    197\u001b[0m                 \u001b[0mouts\u001b[0m \u001b[0;34m=\u001b[0m \u001b[0mto_list\u001b[0m\u001b[0;34m(\u001b[0m\u001b[0mouts\u001b[0m\u001b[0;34m)\u001b[0m\u001b[0;34m\u001b[0m\u001b[0;34m\u001b[0m\u001b[0m\n\u001b[1;32m    198\u001b[0m                 \u001b[0;32mfor\u001b[0m \u001b[0ml\u001b[0m\u001b[0;34m,\u001b[0m \u001b[0mo\u001b[0m \u001b[0;32min\u001b[0m \u001b[0mzip\u001b[0m\u001b[0;34m(\u001b[0m\u001b[0mout_labels\u001b[0m\u001b[0;34m,\u001b[0m \u001b[0mouts\u001b[0m\u001b[0;34m)\u001b[0m\u001b[0;34m:\u001b[0m\u001b[0;34m\u001b[0m\u001b[0;34m\u001b[0m\u001b[0m\n",
      "\u001b[0;32m/opt/anaconda3/lib/python3.6/site-packages/tensorflow_core/python/keras/backend.py\u001b[0m in \u001b[0;36m__call__\u001b[0;34m(self, inputs)\u001b[0m\n\u001b[1;32m   3474\u001b[0m \u001b[0;34m\u001b[0m\u001b[0m\n\u001b[1;32m   3475\u001b[0m     fetched = self._callable_fn(*array_vals,\n\u001b[0;32m-> 3476\u001b[0;31m                                 run_metadata=self.run_metadata)\n\u001b[0m\u001b[1;32m   3477\u001b[0m     \u001b[0mself\u001b[0m\u001b[0;34m.\u001b[0m\u001b[0m_call_fetch_callbacks\u001b[0m\u001b[0;34m(\u001b[0m\u001b[0mfetched\u001b[0m\u001b[0;34m[\u001b[0m\u001b[0;34m-\u001b[0m\u001b[0mlen\u001b[0m\u001b[0;34m(\u001b[0m\u001b[0mself\u001b[0m\u001b[0;34m.\u001b[0m\u001b[0m_fetches\u001b[0m\u001b[0;34m)\u001b[0m\u001b[0;34m:\u001b[0m\u001b[0;34m]\u001b[0m\u001b[0;34m)\u001b[0m\u001b[0;34m\u001b[0m\u001b[0;34m\u001b[0m\u001b[0m\n\u001b[1;32m   3478\u001b[0m     output_structure = nest.pack_sequence_as(\n",
      "\u001b[0;32m/opt/anaconda3/lib/python3.6/site-packages/tensorflow_core/python/client/session.py\u001b[0m in \u001b[0;36m__call__\u001b[0;34m(self, *args, **kwargs)\u001b[0m\n\u001b[1;32m   1470\u001b[0m         ret = tf_session.TF_SessionRunCallable(self._session._session,\n\u001b[1;32m   1471\u001b[0m                                                \u001b[0mself\u001b[0m\u001b[0;34m.\u001b[0m\u001b[0m_handle\u001b[0m\u001b[0;34m,\u001b[0m \u001b[0margs\u001b[0m\u001b[0;34m,\u001b[0m\u001b[0;34m\u001b[0m\u001b[0;34m\u001b[0m\u001b[0m\n\u001b[0;32m-> 1472\u001b[0;31m                                                run_metadata_ptr)\n\u001b[0m\u001b[1;32m   1473\u001b[0m         \u001b[0;32mif\u001b[0m \u001b[0mrun_metadata\u001b[0m\u001b[0;34m:\u001b[0m\u001b[0;34m\u001b[0m\u001b[0;34m\u001b[0m\u001b[0m\n\u001b[1;32m   1474\u001b[0m           \u001b[0mproto_data\u001b[0m \u001b[0;34m=\u001b[0m \u001b[0mtf_session\u001b[0m\u001b[0;34m.\u001b[0m\u001b[0mTF_GetBuffer\u001b[0m\u001b[0;34m(\u001b[0m\u001b[0mrun_metadata_ptr\u001b[0m\u001b[0;34m)\u001b[0m\u001b[0;34m\u001b[0m\u001b[0;34m\u001b[0m\u001b[0m\n",
      "\u001b[0;31mKeyboardInterrupt\u001b[0m: "
     ]
    }
   ],
   "source": [
    "hist=model.fit(train_images, train_labels, epochs=50,  validation_split = 0.2, batch_size = 200, verbose = 1, shuffle = 1)"
   ]
  },
  {
   "cell_type": "code",
   "execution_count": null,
   "metadata": {},
   "outputs": [],
   "source": []
  }
 ],
 "metadata": {
  "kernelspec": {
   "display_name": "Python 3",
   "language": "python",
   "name": "python3"
  },
  "language_info": {
   "codemirror_mode": {
    "name": "ipython",
    "version": 3
   },
   "file_extension": ".py",
   "mimetype": "text/x-python",
   "name": "python",
   "nbconvert_exporter": "python",
   "pygments_lexer": "ipython3",
   "version": "3.6.10"
  }
 },
 "nbformat": 4,
 "nbformat_minor": 4
}
